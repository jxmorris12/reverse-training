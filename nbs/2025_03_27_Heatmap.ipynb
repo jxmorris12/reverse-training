{
 "cells": [
  {
   "cell_type": "code",
   "execution_count": 1064,
   "metadata": {},
   "outputs": [
    {
     "name": "stdout",
     "output_type": "stream",
     "text": [
      "The autoreload extension is already loaded. To reload it, use:\n",
      "  %reload_ext autoreload\n"
     ]
    }
   ],
   "source": [
    "# autoreload\n",
    "%load_ext autoreload\n",
    "%autoreload 2\n",
    "\n",
    "# fix path\n",
    "import sys\n",
    "sys.path.append(\"/home/jxm/reverse-training\")"
   ]
  },
  {
   "cell_type": "code",
   "execution_count": 1075,
   "metadata": {},
   "outputs": [
    {
     "name": "stdout",
     "output_type": "stream",
     "text": [
      "Found 102 files in /home/jxm/reverse-training/results/03-27-heatmap-2/*.pkl\n",
      "Filtered 0/102 results with no evaluation metrics\n",
      "dict_keys(['data', 'time_elapsed', 'full_ot_distance', 'sinkhorn_distance', 'optimal_matching_relaxed_wmd', 'jaccard_overlap_examples', 'jaccard_overlap_vocabulary', 'containment_similarity_examples', 'containment_similarity_vocabulary', 'levenshtein_stats', 'discrete_ot_distance_levenshtein', 'discrete_ot_distance_jaccard', 'args', 'expert_evaluation_metrics', 'evaluation_metrics', 'total_time_in_evaluation'])\n"
     ]
    }
   ],
   "source": [
    "from utils.analysis import load_results_as_df\n",
    "import os\n",
    "\n",
    "\n",
    "HOME_DIR = \"/home/jxm/reverse-training\"\n",
    "df = load_results_as_df(os.path.join(HOME_DIR, \"results\", \"03-27-heatmap-2\"))\n",
    "df[\"seed_dataset_size\"] = df[\"select_seed_dataset\"].str.extract(r\"(\\d+)\").astype(int)\n"
   ]
  },
  {
   "cell_type": "code",
   "execution_count": 1076,
   "metadata": {},
   "outputs": [],
   "source": [
    "import pandas as pd\n",
    "\n",
    "pd.set_option('display.max_rows', None)\n",
    "\n",
    "dv_cols = [\"dataset\", \"select_seed_dataset\", \"select_full_dataset_size\", \"select_batch_fill_strategy\"]\n",
    "\n",
    "iv_cols = [\"evaluation_best_eval_accuracy\", \"dataset_sinkhorn_distance\", \"dataset_full_ot_distance\", \"dataset_jaccard_overlap_vocabulary\"]"
   ]
  },
  {
   "cell_type": "code",
   "execution_count": 1077,
   "metadata": {},
   "outputs": [],
   "source": [
    "dfn = df\n",
    "\n",
    "def fix_name(x):\n",
    "    if \"nq\" in x:\n",
    "        return \"NQ\"\n",
    "    elif \"ag_news\" in x:\n",
    "        return \"AG News\"\n",
    "    elif \"rotten_tomatoes\" in x:\n",
    "        return \"Rotten Tomatoes\"\n",
    "    elif \"imdb\" in x:\n",
    "        return \"IMDB\"\n",
    "    elif \"dbpedia\" in x:\n",
    "        return \"DBpedia\"\n",
    "    elif \"newsgroup\" in x:\n",
    "        return \"Newsgroup\"\n",
    "    elif \"msmarco\" in x:\n",
    "        return \"MSMARCO\"\n",
    "    else:\n",
    "        return \"??\"\n",
    "\n",
    "dfn[\"select_seed_dataset\"] = dfn[\"select_seed_dataset\"].apply(fix_name)\n",
    "dfn[\"dataset\"] = dfn[\"dataset\"].apply(fix_name)\n"
   ]
  },
  {
   "cell_type": "code",
   "execution_count": 1090,
   "metadata": {},
   "outputs": [
    {
     "data": {
      "text/plain": [
       "                               select_seed_dataset  dataset        \n",
       "evaluation_best_eval_accuracy  AG News              AG News            0.817708\n",
       "                                                    DBpedia            0.275065\n",
       "                                                    IMDB               0.609212\n",
       "                                                    Newsgroup          0.128092\n",
       "                                                    Rotten Tomatoes    0.611669\n",
       "                               DBpedia              AG News            0.504883\n",
       "                                                    DBpedia            0.603353\n",
       "                                                    IMDB               0.525553\n",
       "                                                    Newsgroup          0.081380\n",
       "                                                    Rotten Tomatoes    0.588800\n",
       "                               IMDB                 AG News            0.547526\n",
       "                                                    DBpedia            0.175293\n",
       "                                                    IMDB               0.755697\n",
       "                                                    Newsgroup          0.081868\n",
       "                                                    Rotten Tomatoes    0.634972\n",
       "                               MSMARCO              AG News            0.743815\n",
       "                                                    DBpedia            0.488770\n",
       "                                                    IMDB               0.671061\n",
       "                                                    Newsgroup          0.140788\n",
       "                                                    Rotten Tomatoes    0.606306\n",
       "                               NQ                   AG News            0.791667\n",
       "                                                    DBpedia            0.593913\n",
       "                                                    IMDB               0.647786\n",
       "                                                    Newsgroup          0.142253\n",
       "                                                    Rotten Tomatoes    0.567626\n",
       "                               Newsgroup            AG News            0.699382\n",
       "                                                    DBpedia            0.193685\n",
       "                                                    IMDB               0.636556\n",
       "                                                    Newsgroup          0.277995\n",
       "                                                    Rotten Tomatoes    0.549934\n",
       "                               Rotten Tomatoes      AG News            0.362630\n",
       "                                                    DBpedia            0.112630\n",
       "                                                    IMDB               0.674805\n",
       "                                                    Newsgroup          0.045898\n",
       "                                                    Rotten Tomatoes    0.554424\n",
       "dtype: float64"
      ]
     },
     "execution_count": 1090,
     "metadata": {},
     "output_type": "execute_result"
    }
   ],
   "source": [
    "hdf"
   ]
  },
  {
   "cell_type": "code",
   "execution_count": 1092,
   "metadata": {},
   "outputs": [
    {
     "name": "stdout",
     "output_type": "stream",
     "text": [
      "\\begin{tabular}{lrrrrrrr}\n",
      "\\toprule\n",
      "select_seed_dataset & AG News & DBpedia & IMDB & Newsgroup & Rotten Tomatoes & MSMARCO & NQ \\\\\n",
      "dataset &  &  &  &  &  &  &  \\\\\n",
      "\\midrule\n",
      "AG News & 81.8 & 50.5 & 54.8 & 69.9 & 36.3 & 74.4 & 79.2 \\\\\n",
      "DBpedia & 27.5 & 60.3 & 17.5 & 19.4 & 11.3 & 48.9 & 59.4 \\\\\n",
      "IMDB & 60.9 & 52.6 & 75.6 & 63.7 & 67.5 & 67.1 & 64.8 \\\\\n",
      "Newsgroup & 12.8 & 8.1 & 8.2 & 27.8 & 4.6 & 14.1 & 14.2 \\\\\n",
      "Rotten Tomatoes & 61.2 & 58.9 & 63.5 & 55.0 & 55.4 & 60.6 & 56.8 \\\\\n",
      "MSMARCO & NaN & NaN & NaN & NaN & NaN & NaN & NaN \\\\\n",
      "NQ & NaN & NaN & NaN & NaN & NaN & NaN & NaN \\\\\n",
      "\\bottomrule\n",
      "\\end{tabular}\n",
      "\n"
     ]
    }
   ],
   "source": [
    "ordering = [\"AG News\",  \"DBpedia\",  \"IMDB\", \"Newsgroup\", \"Rotten Tomatoes\", \"MSMARCO\", \"NQ\"]\n",
    "hdf = (\n",
    "    dfn.groupby([\"select_seed_dataset\", \"dataset\"])[\"evaluation_best_eval_accuracy\"]\n",
    "        .mean()\n",
    "        .reset_index()\n",
    "        .pivot(index=\"dataset\", columns=\"select_seed_dataset\", values=\"evaluation_best_eval_accuracy\")\n",
    ")\n",
    "\n",
    "# order rows\n",
    "hdf = hdf[ordering]\n",
    "hdf = hdf.reindex(ordering)\n",
    "# order cols\n",
    "# hdf = hdf.reindex(ordering, axis=1)\n",
    "\n",
    "import seaborn as sns\n",
    "\n",
    "# divide each row by the max value of that row\n",
    "# hdf = hdf.div(hdf.max(axis=1), axis=0)\n",
    "print(hdf.to_latex(float_format=lambda x: f\"{100*x:.1f}\"))"
   ]
  },
  {
   "cell_type": "code",
   "execution_count": null,
   "metadata": {},
   "outputs": [],
   "source": []
  },
  {
   "cell_type": "code",
   "execution_count": null,
   "metadata": {},
   "outputs": [],
   "source": []
  }
 ],
 "metadata": {
  "kernelspec": {
   "display_name": "Python 3 (ipykernel)",
   "language": "python",
   "name": "python3"
  }
 },
 "nbformat": 4,
 "nbformat_minor": 2
}
