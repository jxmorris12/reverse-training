{
 "cells": [
  {
   "cell_type": "code",
   "execution_count": 807,
   "metadata": {},
   "outputs": [
    {
     "name": "stdout",
     "output_type": "stream",
     "text": [
      "The autoreload extension is already loaded. To reload it, use:\n",
      "  %reload_ext autoreload\n"
     ]
    }
   ],
   "source": [
    "# autoreload\n",
    "%load_ext autoreload\n",
    "%autoreload 2\n",
    "\n",
    "# fix path\n",
    "import sys\n",
    "sys.path.append(\"/home/jxm/reverse-training\")"
   ]
  },
  {
   "cell_type": "code",
   "execution_count": 829,
   "metadata": {},
   "outputs": [
    {
     "name": "stdout",
     "output_type": "stream",
     "text": [
      "Found 48 files in /home/jxm/reverse-training/results/03-26-heatmap-1/*.pkl\n",
      "Filtered 0/48 results with no evaluation metrics\n",
      "dict_keys(['data', 'time_elapsed', 'full_ot_distance', 'sinkhorn_distance', 'jaccard_overlap_examples', 'jaccard_overlap_vocabulary', 'levenshtein_stats', 'args', 'expert_evaluation_metrics', 'evaluation_metrics'])\n"
     ]
    }
   ],
   "source": [
    "from utils.analysis import load_results_as_df\n",
    "import os\n",
    "\n",
    "\n",
    "HOME_DIR = \"/home/jxm/reverse-training\"\n",
    "df = load_results_as_df(os.path.join(HOME_DIR, \"results\", \"03-26-heatmap-1\"))\n",
    "df[\"seed_dataset_size\"] = df[\"select_seed_dataset\"].str.extract(r\"(\\d+)\").astype(int)\n"
   ]
  },
  {
   "cell_type": "code",
   "execution_count": 811,
   "metadata": {},
   "outputs": [],
   "source": [
    "import pandas as pd\n",
    "\n",
    "pd.set_option('display.max_rows', None)\n",
    "\n",
    "dv_cols = [\"dataset\", \"select_seed_dataset\", \"select_full_dataset_size\", \"select_batch_fill_strategy\"]\n",
    "\n",
    "iv_cols = [\"evaluation_best_eval_accuracy\", \"dataset_sinkhorn_distance\", \"dataset_full_ot_distance\", \"dataset_jaccard_overlap_vocabulary\"]"
   ]
  },
  {
   "cell_type": "code",
   "execution_count": 830,
   "metadata": {},
   "outputs": [],
   "source": [
    "dfn = df\n",
    "\n",
    "def fix_name(x):\n",
    "    if \"nq\" in x:\n",
    "        return \"NQ\"\n",
    "    elif \"ag_news\" in x:\n",
    "        return \"AG News\"\n",
    "    elif \"rotten_tomatoes\" in x:\n",
    "        return \"Rotten Tomatoes\"\n",
    "    elif \"imdb\" in x:\n",
    "        return \"IMDB\"\n",
    "    elif \"dbpedia\" in x:\n",
    "        return \"DBpedia\"\n",
    "    elif \"newsgroup\" in x:\n",
    "        return \"Newsgroup\"\n",
    "\n",
    "dfn[\"select_seed_dataset\"] = dfn[\"select_seed_dataset\"].apply(fix_name)\n",
    "dfn[\"dataset\"] = dfn[\"dataset\"].apply(fix_name)\n"
   ]
  },
  {
   "cell_type": "code",
   "execution_count": 836,
   "metadata": {},
   "outputs": [
    {
     "name": "stdout",
     "output_type": "stream",
     "text": [
      "\\begin{tabular}{lrrrr}\n",
      "\\toprule\n",
      " & \\multicolumn{4}{r}{evaluation_best_eval_accuracy} \\\\\n",
      "select_seed_dataset & AG News & DBpedia & IMDB & Newsgroup \\\\\n",
      "dataset &  &  &  &  \\\\\n",
      "\\midrule\n",
      "AG News & 81.6 & 50.5 & 54.2 & 70.7 \\\\\n",
      "DBpedia & 27.8 & 60.9 & 18.0 & 19.3 \\\\\n",
      "IMDB & 61.2 & 52.4 & 75.5 & 63.0 \\\\\n",
      "Newsgroup & 12.8 & 8.1 & 7.5 & 27.8 \\\\\n",
      "\\bottomrule\n",
      "\\end{tabular}\n",
      "\n"
     ]
    }
   ],
   "source": [
    "\n",
    "hdf = (\n",
    "    dfn.groupby([\"select_seed_dataset\", \"dataset\"])[\"evaluation_best_eval_accuracy\"]\n",
    "        .mean()\n",
    "        .reset_index()\n",
    "        .pivot(index=\"dataset\", columns=\"select_seed_dataset\")\n",
    ")\n",
    "\n",
    "import seaborn as sns\n",
    "\n",
    "# divide each row by the max value of that row\n",
    "# hdf = hdf.div(hdf.max(axis=1), axis=0)\n",
    "print(hdf.to_latex(float_format=lambda x: f\"{100*x:.1f}\"))"
   ]
  },
  {
   "cell_type": "code",
   "execution_count": null,
   "metadata": {},
   "outputs": [],
   "source": []
  }
 ],
 "metadata": {
  "kernelspec": {
   "display_name": "Python 3 (ipykernel)",
   "language": "python",
   "name": "python3"
  }
 },
 "nbformat": 4,
 "nbformat_minor": 2
}
