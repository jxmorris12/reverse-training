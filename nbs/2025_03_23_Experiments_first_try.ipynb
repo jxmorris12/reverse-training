{
 "cells": [
  {
   "cell_type": "code",
   "execution_count": 86,
   "metadata": {},
   "outputs": [
    {
     "name": "stdout",
     "output_type": "stream",
     "text": [
      "The autoreload extension is already loaded. To reload it, use:\n",
      "  %reload_ext autoreload\n"
     ]
    }
   ],
   "source": [
    "# autoreload\n",
    "%load_ext autoreload\n",
    "%autoreload 2\n",
    "\n",
    "# fix path\n",
    "import sys\n",
    "sys.path.append(\"/home/jxm/reverse-training\")"
   ]
  },
  {
   "cell_type": "code",
   "execution_count": 109,
   "metadata": {},
   "outputs": [
    {
     "name": "stdout",
     "output_type": "stream",
     "text": [
      "Filtered 0/300 results with no evaluation metrics\n",
      "dict_keys(['data', 'full_ot_distance', 'sinkhorn_distance', 'jaccard_overlap_examples', 'jaccard_overlap_vocabulary', 'levenshtein_stats', 'args', 'expert_evaluation_metrics', 'evaluation_metrics'])\n"
     ]
    },
    {
     "data": {
      "text/plain": [
       "26"
      ]
     },
     "execution_count": 109,
     "metadata": {},
     "output_type": "execute_result"
    }
   ],
   "source": [
    "from utils.analysis import load_results_as_df\n",
    "import os\n",
    "\n",
    "\n",
    "HOME_DIR = \"/home/jxm/reverse-training\"\n",
    "df = load_results_as_df(os.path.join(HOME_DIR, \"results\"))\n",
    "df = df[df[\"select_seed_dataset\"].str.contains(\"2000000\")]\n",
    "len(df)\n"
   ]
  },
  {
   "cell_type": "code",
   "execution_count": 110,
   "metadata": {},
   "outputs": [
    {
     "name": "stdout",
     "output_type": "stream",
     "text": [
      "dataset\n",
      "ag_news_10000    26\n",
      "Name: count, dtype: int64 \n",
      "\n",
      "select_full_dataset_size\n",
      "500      7\n",
      "1000     7\n",
      "5000     7\n",
      "10000    4\n",
      "100      1\n",
      "Name: count, dtype: int64 \n",
      "\n",
      "select_batch_fill_strategy\n",
      "random    26\n",
      "Name: count, dtype: int64 \n",
      "\n"
     ]
    }
   ],
   "source": [
    "print(df[\"dataset\"].value_counts(), \"\\n\")\n",
    "print(df[\"select_full_dataset_size\"].value_counts(), \"\\n\")\n",
    "print(df[\"select_batch_fill_strategy\"].value_counts(), \"\\n\")"
   ]
  },
  {
   "cell_type": "code",
   "execution_count": 95,
   "metadata": {},
   "outputs": [
    {
     "data": {
      "text/plain": [
       "['dataset',\n",
       " 'dataset_size',\n",
       " 'eval_every',\n",
       " 'select_seed_dataset',\n",
       " 'select_full_dataset_size',\n",
       " 'num_eval_epochs',\n",
       " 'best_eval_loss',\n",
       " 'best_eval_accuracy',\n",
       " 'dataset_sinkhorn_distance',\n",
       " 'dataset_full_ot_distance',\n",
       " 'dataset_jaccard_overlap_examples',\n",
       " 'dataset_jaccard_overlap_vocabulary']"
      ]
     },
     "execution_count": 95,
     "metadata": {},
     "output_type": "execute_result"
    }
   ],
   "source": [
    "[col for col in df.columns if (\"eval\" in col or \"dataset\" in col)]"
   ]
  },
  {
   "cell_type": "code",
   "execution_count": 96,
   "metadata": {},
   "outputs": [
    {
     "data": {
      "text/html": [
       "<div>\n",
       "<style scoped>\n",
       "    .dataframe tbody tr th:only-of-type {\n",
       "        vertical-align: middle;\n",
       "    }\n",
       "\n",
       "    .dataframe tbody tr th {\n",
       "        vertical-align: top;\n",
       "    }\n",
       "\n",
       "    .dataframe thead th {\n",
       "        text-align: right;\n",
       "    }\n",
       "</style>\n",
       "<table border=\"1\" class=\"dataframe\">\n",
       "  <thead>\n",
       "    <tr style=\"text-align: right;\">\n",
       "      <th></th>\n",
       "      <th></th>\n",
       "      <th></th>\n",
       "      <th>best_eval_accuracy</th>\n",
       "      <th>dataset_sinkhorn_distance</th>\n",
       "      <th>dataset_jaccard_overlap_vocabulary</th>\n",
       "    </tr>\n",
       "    <tr>\n",
       "      <th>select_seed_dataset</th>\n",
       "      <th>select_full_dataset_size</th>\n",
       "      <th>select_batch_fill_strategy</th>\n",
       "      <th></th>\n",
       "      <th></th>\n",
       "      <th></th>\n",
       "    </tr>\n",
       "  </thead>\n",
       "  <tbody>\n",
       "    <tr>\n",
       "      <th rowspan=\"5\" valign=\"top\">nq_2000000</th>\n",
       "      <th>10000</th>\n",
       "      <th>random</th>\n",
       "      <td>0.847656</td>\n",
       "      <td>1.289012</td>\n",
       "      <td>0.699821</td>\n",
       "    </tr>\n",
       "    <tr>\n",
       "      <th>5000</th>\n",
       "      <th>random</th>\n",
       "      <td>0.845947</td>\n",
       "      <td>1.290554</td>\n",
       "      <td>0.637599</td>\n",
       "    </tr>\n",
       "    <tr>\n",
       "      <th>1000</th>\n",
       "      <th>random</th>\n",
       "      <td>0.805908</td>\n",
       "      <td>1.291944</td>\n",
       "      <td>0.362626</td>\n",
       "    </tr>\n",
       "    <tr>\n",
       "      <th>500</th>\n",
       "      <th>random</th>\n",
       "      <td>0.781006</td>\n",
       "      <td>1.292007</td>\n",
       "      <td>0.243840</td>\n",
       "    </tr>\n",
       "    <tr>\n",
       "      <th>100</th>\n",
       "      <th>random</th>\n",
       "      <td>0.456055</td>\n",
       "      <td>1.298857</td>\n",
       "      <td>0.078014</td>\n",
       "    </tr>\n",
       "    <tr>\n",
       "      <th rowspan=\"4\" valign=\"top\">msmarco_2000000</th>\n",
       "      <th>10000</th>\n",
       "      <th>random</th>\n",
       "      <td>0.849935</td>\n",
       "      <td>1.320799</td>\n",
       "      <td>0.702342</td>\n",
       "    </tr>\n",
       "    <tr>\n",
       "      <th>5000</th>\n",
       "      <th>random</th>\n",
       "      <td>0.848958</td>\n",
       "      <td>1.320982</td>\n",
       "      <td>0.624817</td>\n",
       "    </tr>\n",
       "    <tr>\n",
       "      <th>1000</th>\n",
       "      <th>random</th>\n",
       "      <td>0.783203</td>\n",
       "      <td>1.321848</td>\n",
       "      <td>0.342004</td>\n",
       "    </tr>\n",
       "    <tr>\n",
       "      <th>500</th>\n",
       "      <th>random</th>\n",
       "      <td>0.740885</td>\n",
       "      <td>1.320896</td>\n",
       "      <td>0.230719</td>\n",
       "    </tr>\n",
       "  </tbody>\n",
       "</table>\n",
       "</div>"
      ],
      "text/plain": [
       "                                                                         best_eval_accuracy  \\\n",
       "select_seed_dataset select_full_dataset_size select_batch_fill_strategy                       \n",
       "nq_2000000          10000                    random                                0.847656   \n",
       "                    5000                     random                                0.845947   \n",
       "                    1000                     random                                0.805908   \n",
       "                    500                      random                                0.781006   \n",
       "                    100                      random                                0.456055   \n",
       "msmarco_2000000     10000                    random                                0.849935   \n",
       "                    5000                     random                                0.848958   \n",
       "                    1000                     random                                0.783203   \n",
       "                    500                      random                                0.740885   \n",
       "\n",
       "                                                                         dataset_sinkhorn_distance  \\\n",
       "select_seed_dataset select_full_dataset_size select_batch_fill_strategy                              \n",
       "nq_2000000          10000                    random                                       1.289012   \n",
       "                    5000                     random                                       1.290554   \n",
       "                    1000                     random                                       1.291944   \n",
       "                    500                      random                                       1.292007   \n",
       "                    100                      random                                       1.298857   \n",
       "msmarco_2000000     10000                    random                                       1.320799   \n",
       "                    5000                     random                                       1.320982   \n",
       "                    1000                     random                                       1.321848   \n",
       "                    500                      random                                       1.320896   \n",
       "\n",
       "                                                                         dataset_jaccard_overlap_vocabulary  \n",
       "select_seed_dataset select_full_dataset_size select_batch_fill_strategy                                      \n",
       "nq_2000000          10000                    random                                                0.699821  \n",
       "                    5000                     random                                                0.637599  \n",
       "                    1000                     random                                                0.362626  \n",
       "                    500                      random                                                0.243840  \n",
       "                    100                      random                                                0.078014  \n",
       "msmarco_2000000     10000                    random                                                0.702342  \n",
       "                    5000                     random                                                0.624817  \n",
       "                    1000                     random                                                0.342004  \n",
       "                    500                      random                                                0.230719  "
      ]
     },
     "execution_count": 96,
     "metadata": {},
     "output_type": "execute_result"
    }
   ],
   "source": [
    "import pandas as pd\n",
    "\n",
    "pd.set_option('display.max_rows', None)\n",
    "\n",
    "dv_cols = [\"select_seed_dataset\", \"select_full_dataset_size\", \"select_batch_fill_strategy\"]\n",
    "\n",
    "iv_cols = [\"best_eval_accuracy\", \"dataset_sinkhorn_distance\", \"dataset_jaccard_overlap_vocabulary\"]\n",
    "\n",
    "df.groupby(dv_cols)[iv_cols].mean().sort_values(by=[\"select_seed_dataset\", \"select_full_dataset_size\", \"select_batch_fill_strategy\"], ascending=False)"
   ]
  },
  {
   "cell_type": "code",
   "execution_count": 105,
   "metadata": {},
   "outputs": [
    {
     "data": {
      "image/png": "[encoded data removed]",
      "text/plain": [
       "<Figure size 640x480 with 1 Axes>"
      ]
     },
     "metadata": {},
     "output_type": "display_data"
    }
   ],
   "source": [
    "import seaborn as sns\n",
    "\n",
    "pdf = df.groupby(dv_cols)[iv_cols].mean().sort_values(by=[\"select_seed_dataset\", \"select_full_dataset_size\", \"select_batch_fill_strategy\"], ascending=False)\n",
    "pdf = pdf.reset_index()\n",
    "rdf = pdf[pdf[\"select_batch_fill_strategy\"] == \"random\"]\n",
    "\n",
    "ax = sns.lineplot(data=rdf, x=\"select_full_dataset_size\", y=\"best_eval_accuracy\", hue=\"select_seed_dataset\", lw=3)\n",
    "# sns.lineplot(data=rdf, x=\"select_full_dataset_size\", y=\"dataset_sinkhorn_distance\", hue=\"select_seed_dataset\")\n",
    "# ax.set_xscale(\"log\")"
   ]
  },
  {
   "cell_type": "code",
   "execution_count": null,
   "metadata": {},
   "outputs": [],
   "source": []
  }
 ],
 "metadata": {
  "kernelspec": {
   "display_name": "Python 3 (ipykernel)",
   "language": "python",
   "name": "python3"
  }
 },
 "nbformat": 4,
 "nbformat_minor": 2
}
